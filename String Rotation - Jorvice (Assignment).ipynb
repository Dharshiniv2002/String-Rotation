{
 "cells": [
  {
   "cell_type": "code",
   "execution_count": 4,
   "id": "17a5206b",
   "metadata": {},
   "outputs": [
    {
     "name": "stdout",
     "output_type": "stream",
     "text": [
      "1\n"
     ]
    }
   ],
   "source": [
    "def findRotations(str1, str2):\n",
    "    x = 0\n",
    "    y = 0\n",
    "    m = str1\n",
    "     \n",
    "    while True:\n",
    "        m = m[len(m)-1] + m[:len(m)-1]\n",
    "\n",
    "        if(m == str2):\n",
    "            x += 1\n",
    "            break\n",
    "             \n",
    "        else:\n",
    "            x += 1\n",
    "            if x > len(str2) :\n",
    "                break\n",
    "  \n",
    "    while True:\n",
    "        str1 = str1[1:len(str1)]+str1[0]\n",
    "        if(str1 == str2):\n",
    "            y += 1\n",
    "            break\n",
    "             \n",
    "        else:\n",
    "            y += 1\n",
    "            if y > len(str2):\n",
    "                break\n",
    "                 \n",
    "    if x < len(str2):\n",
    "        print(min(x,y))\n",
    "         \n",
    "    else:\n",
    "        print(\"given strings are not of same kind\")\n",
    "findRotations('orvicej', 'jorvice')"
   ]
  },
  {
   "cell_type": "markdown",
   "id": "12b8658e",
   "metadata": {},
   "source": [
    "Explanation: j is rotated left to obtain jorvice.\n"
   ]
  },
  {
   "cell_type": "code",
   "execution_count": 3,
   "id": "fe1f316b",
   "metadata": {},
   "outputs": [
    {
     "name": "stdout",
     "output_type": "stream",
     "text": [
      "2\n"
     ]
    }
   ],
   "source": [
    "def findRotations(str1, str2):\n",
    "    x = 0\n",
    "    y = 0\n",
    "    m = str1\n",
    "     \n",
    "    while True:\n",
    "        m = m[len(m)-1] + m[:len(m)-1]\n",
    "\n",
    "        if(m == str2):\n",
    "            x += 1\n",
    "            break\n",
    "             \n",
    "        else:\n",
    "            x += 1\n",
    "            if x > len(str2) :\n",
    "                break\n",
    "  \n",
    "    while True:\n",
    "        str1 = str1[1:len(str1)]+str1[0]\n",
    "        if(str1 == str2):\n",
    "            y += 1\n",
    "            break\n",
    "             \n",
    "        else:\n",
    "            y += 1\n",
    "            if y > len(str2):\n",
    "                break\n",
    "                 \n",
    "    if x < len(str2):\n",
    "        print(min(x,y))\n",
    "         \n",
    "    else:\n",
    "        print(\"given strings are not of same kind\")\n",
    "findRotations('rvicejo', 'jorvice')"
   ]
  },
  {
   "cell_type": "markdown",
   "id": "717f698c",
   "metadata": {},
   "source": [
    "o and j are left rotated to obtain jorvice."
   ]
  }
 ],
 "metadata": {
  "kernelspec": {
   "display_name": "Python 3 (ipykernel)",
   "language": "python",
   "name": "python3"
  },
  "language_info": {
   "codemirror_mode": {
    "name": "ipython",
    "version": 3
   },
   "file_extension": ".py",
   "mimetype": "text/x-python",
   "name": "python",
   "nbconvert_exporter": "python",
   "pygments_lexer": "ipython3",
   "version": "3.9.12"
  }
 },
 "nbformat": 4,
 "nbformat_minor": 5
}
